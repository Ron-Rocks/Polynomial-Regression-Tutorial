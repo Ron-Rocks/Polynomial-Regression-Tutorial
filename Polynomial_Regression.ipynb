{
  "nbformat": 4,
  "nbformat_minor": 0,
  "metadata": {
    "colab": {
      "name": "Polynomial Regression.ipynb",
      "provenance": [],
      "collapsed_sections": [],
      "authorship_tag": "ABX9TyPsOceyIedf1KQpaQvCAY+Q",
      "include_colab_link": true
    },
    "kernelspec": {
      "name": "python3",
      "display_name": "Python 3"
    }
  },
  "cells": [
    {
      "cell_type": "markdown",
      "metadata": {
        "id": "view-in-github",
        "colab_type": "text"
      },
      "source": [
        "<a href=\"https://colab.research.google.com/github/Ron-Rocks/Polynomial-Regression-Tutorial/blob/master/Polynomial_Regression.ipynb\" target=\"_parent\"><img src=\"https://colab.research.google.com/assets/colab-badge.svg\" alt=\"Open In Colab\"/></a>"
      ]
    },
    {
      "cell_type": "code",
      "metadata": {
        "id": "eChy92b3I9rj",
        "colab_type": "code",
        "colab": {}
      },
      "source": [
        "!pip install tensorflow==2"
      ],
      "execution_count": 0,
      "outputs": []
    },
    {
      "cell_type": "markdown",
      "metadata": {
        "id": "pKq1HGLyhMAy",
        "colab_type": "text"
      },
      "source": [
        "# Polynomial Regression - \n",
        "\n",
        "let's see Linear Regression first-\n",
        "\n",
        ">In a Linear Regresssion we try to represent the given data in the form of a line whose equation is (eg. y = mx + c)\n",
        "\n",
        ">EXAMPLE-\n",
        "\n",
        ">>Data -\n",
        "\n",
        ">>Line predicted -\n",
        "\n",
        ">Now, this line is used to predict the y value for the given x value -\n",
        "\n",
        ">eg. predicting value for x=5 (y = 5m + c)\n",
        "\n",
        "\n",
        "---\n",
        "\n",
        "\n",
        "\n",
        "But through this method we can only represent the data with a straight line.\n",
        "\n",
        "In **Polynomial Regression** we can represent the data as a curve :\n",
        "\n",
        "eg. 2nd degree  -  y = ax^2 + bx + c \n",
        "\n",
        "eg. 3rd degree  -  y = ax^3 + bx^2 + bx + c\n",
        "\n",
        ".\n",
        ".\n",
        ".\n",
        "\n",
        "and so on\n",
        "\n",
        "Polynimial Regression also help us improve the accuracy of our predictions because it matches the data better than a straight line"
      ]
    },
    {
      "cell_type": "code",
      "metadata": {
        "id": "Ofo6XlE5hIXC",
        "colab_type": "code",
        "colab": {}
      },
      "source": [
        "import tensorflow as tf\n",
        "import numpy as np\n",
        "import matplotlib.pyplot as plt\n",
        "from IPython.display import clear_output\n",
        "import time"
      ],
      "execution_count": 0,
      "outputs": []
    },
    {
      "cell_type": "markdown",
      "metadata": {
        "id": "O_qT4km6oCkR",
        "colab_type": "text"
      },
      "source": [
        "# Setting up the Data (Python-generated)\n",
        "\n"
      ]
    },
    {
      "cell_type": "code",
      "metadata": {
        "id": "a-WlfEcMoCIO",
        "colab_type": "code",
        "outputId": "de47d7bf-8f94-4ba2-f7dd-1bc908825fc5",
        "colab": {
          "base_uri": "https://localhost:8080/",
          "height": 283
        }
      },
      "source": [
        "dataLength = 50\n",
        "\n",
        "x = np.linspace(0,5,dataLength)\n",
        "y = x**2 +np.random.uniform(0,10,dataLength)\n",
        "\n",
        "x=x.astype(\"float32\")\n",
        "y=y.astype(\"float32\")\n",
        "\n",
        "plt.figure()\n",
        "plt.scatter(x,y)"
      ],
      "execution_count": 0,
      "outputs": [
        {
          "output_type": "execute_result",
          "data": {
            "text/plain": [
              "<matplotlib.collections.PathCollection at 0x7fee6f6b5ac8>"
            ]
          },
          "metadata": {
            "tags": []
          },
          "execution_count": 2
        },
        {
          "output_type": "display_data",
          "data": {
            "image/png": "[encoded data removed]",
            "text/plain": [
              "<Figure size 432x288 with 1 Axes>"
            ]
          },
          "metadata": {
            "tags": []
          }
        }
      ]
    },
    {
      "cell_type": "markdown",
      "metadata": {
        "id": "FuovHyCXkInc",
        "colab_type": "text"
      },
      "source": [
        "##Making the Polynomial Function of the form  \n",
        "\n",
        "\n",
        "\n",
        "# $ y = w_3 x^3 + w_2 x^2 + w_1 x + b $\n",
        "\n"
      ]
    },
    {
      "cell_type": "code",
      "metadata": {
        "id": "uZFQL0yfj8qX",
        "colab_type": "code",
        "colab": {}
      },
      "source": [
        "class Model:\n",
        "    def __init__(self):\n",
        "        self.w1 = tf.Variable(0.1)\n",
        "        self.w2 = tf.Variable(0.1)\n",
        "        self.w3 = tf.Variable(0.1)\n",
        "\n",
        "        self.b = tf.Variable(0.1)\n",
        "\n",
        "    def __call__(self,x):\n",
        "        return self.w3 * tf.pow(x,3)+self.w2 * tf.pow(x,2)+self.w1 * tf.pow(x,1)+self.b\n"
      ],
      "execution_count": 0,
      "outputs": []
    },
    {
      "cell_type": "markdown",
      "metadata": {
        "id": "lPwGfW32ydGb",
        "colab_type": "text"
      },
      "source": [
        "Next we define our loss function (ie. mean squared error)\n",
        "\n",
        "$ 1/n  \\sum_{i=1}^{n} (yPred - y)^2$"
      ]
    },
    {
      "cell_type": "code",
      "metadata": {
        "id": "g00vso09yy9P",
        "colab_type": "code",
        "colab": {}
      },
      "source": [
        "def loss(y,yPred):\n",
        "    return tf.math.reduce_mean(tf.square(yPred-y))"
      ],
      "execution_count": 0,
      "outputs": []
    },
    {
      "cell_type": "markdown",
      "metadata": {
        "id": "6L6MathWzO4A",
        "colab_type": "text"
      },
      "source": [
        "# Now we can begin training the model:\n",
        "\n",
        ">We are using  GradientTape  to take care of computing all the derivatives with respect to the defined variables.\n",
        "\n",
        "> The Learning Rate is the size of the steps taken while adjusting the variables.\n",
        "\n",
        "After calculating the derivatives we then subtract the values from the original variable.\n",
        "\n",
        "For example- If this is the graph of a loss function, then, by calculating the derivative we get the tangent of the curve at that point.\n",
        "So if the slope of the tangent is positive then the value of the variable will decrease and if it is negative then it will increase, until eventually the value of the variable will reach a point where the loss is the least. This is the lowest part of the curve.\n",
        "\n",
        "![alt text](https://drive.google.com/uc?id=1kZzoXygp4lP8gzi8IQW3d6HGyO3gd83h)\n"
      ]
    },
    {
      "cell_type": "code",
      "metadata": {
        "id": "GsJ_NIMszOmv",
        "colab_type": "code",
        "colab": {}
      },
      "source": [
        "model  = Model()\n",
        "\n",
        "learningRate=0.00005\n",
        "\n",
        "weights,biases=[],[]\n",
        "epochs = 5000\n",
        "\n",
        "for i in range(epochs):\n",
        "    with tf.GradientTape() as t:\n",
        "        t.watch(model.w1)\n",
        "        currLoss = loss(y,model(x))\n",
        "\n",
        "    dw1,dw2,dw3,db = t.gradient(currLoss,[model.w1,model.w2,model.w3,model.b])\n",
        "    \n",
        "    \n",
        "    \n",
        "    model.w1.assign_sub(learningRate * dw1)\n",
        "    model.w2.assign_sub(learningRate * dw2)\n",
        "    model.w3.assign_sub(learningRate * dw3)\n",
        "    model.b.assign_sub(learningRate * db)\n",
        "\n",
        "    clear_output()\n",
        "    plt.scatter(x,y,c=\"b\")\n",
        "    plt.plot(x,model(x),c=\"r\",linewidth=3)\n",
        "    plt.show()\n",
        "    \n",
        "    time.sleep(5)\n",
        "    \n",
        "print(model.w1.numpy(),model.w2.numpy(),model.w3.numpy(),model.b.numpy())\n",
        "   \n",
        "\n",
        "\n"
      ],
      "execution_count": 0,
      "outputs": []
    },
    {
      "cell_type": "markdown",
      "metadata": {
        "id": "v-AJqy3ZGlFH",
        "colab_type": "text"
      },
      "source": [
        "# This is a visualization of the predicted polynomial by the model."
      ]
    },
    {
      "cell_type": "code",
      "metadata": {
        "id": "5bp9ANS3Ooy1",
        "colab_type": "code",
        "outputId": "6750d255-0432-4a11-c539-0aa0001bd5a9",
        "colab": {
          "base_uri": "https://localhost:8080/",
          "height": 282
        }
      },
      "source": [
        "rgbValue = [88,180,245]\n",
        "colorValue= []\n",
        "for i in rgbValue:\n",
        "    colorValue.append(i/255.0)\n",
        "\n",
        "print(colorValue)\n",
        "plt.scatter(x,y,color = colorValue)\n",
        "plt.plot(x,model(x),c=\"r\",linewidth=3)\n",
        "\n",
        "\n",
        "plt.show()"
      ],
      "execution_count": 0,
      "outputs": [
        {
          "output_type": "stream",
          "text": [
            "[0.34509803921568627, 0.7058823529411765, 0.9607843137254902]\n"
          ],
          "name": "stdout"
        },
        {
          "output_type": "display_data",
          "data": {
            "image/png": "[encoded data removed]",
            "text/plain": [
              "<Figure size 432x288 with 1 Axes>"
            ]
          },
          "metadata": {
            "tags": []
          }
        }
      ]
    },
    {
      "cell_type": "markdown",
      "metadata": {
        "id": "X5GwEXb1G257",
        "colab_type": "text"
      },
      "source": [
        "##Now let us move on to predicting using a given dataset."
      ]
    },
    {
      "cell_type": "code",
      "metadata": {
        "id": "J-WL2FMVHRtX",
        "colab_type": "code",
        "outputId": "e5a5acec-f6d8-4e89-a562-c6d7853672a4",
        "colab": {
          "base_uri": "https://localhost:8080/",
          "height": 282
        }
      },
      "source": [
        "level = [1.0,2.0,3.0,4.0,5.0,6.0,7.0,8.0,9.0,10.0]\n",
        "\n",
        "salary = [45000,50000,60000,80000,110000,150000,200000,300000,500000,1000000]\n",
        "\n",
        "positions = [\"Business Analyst\",\"Junior Consultant\",\"Senior Consultant\",\"Manager\",\"Country Manager\",\"Region Manager\",\"Partner\",\"Senior Partner\",\"C- Level\",\"CEO\"]\n",
        "\n",
        "plt.scatter(level,salary)"
      ],
      "execution_count": 0,
      "outputs": [
        {
          "output_type": "execute_result",
          "data": {
            "text/plain": [
              "<matplotlib.collections.PathCollection at 0x7fd478015e48>"
            ]
          },
          "metadata": {
            "tags": []
          },
          "execution_count": 8
        },
        {
          "output_type": "display_data",
          "data": {
            "image/png": "[encoded data removed]",
            "text/plain": [
              "<Figure size 432x288 with 1 Axes>"
            ]
          },
          "metadata": {
            "tags": []
          }
        }
      ]
    },
    {
      "cell_type": "code",
      "metadata": {
        "id": "ZE-Z33sHH9Yn",
        "colab_type": "code",
        "colab": {}
      },
      "source": [
        "model2  = Model()\n",
        "\n",
        "learningRate=0.000000001\n",
        "\n",
        "weights,biases=[],[]\n",
        "epochs = 10000\n",
        "\n",
        "for i in range(epochs):\n",
        "    with tf.GradientTape() as t:\n",
        "       \n",
        "        currLoss = loss(salary,model2(level))\n",
        "\n",
        "    dw1,dw2,dw3,db = t.gradient(currLoss,[model2.w1,model2.w2,model2.w3,model2.b])\n",
        "    print(currLoss.numpy())\n",
        "    \n",
        "    model2.w1.assign_sub(learningRate * dw1)\n",
        "    model2.w2.assign_sub(learningRate * dw2)\n",
        "    model2.w3.assign_sub(learningRate * dw3)\n",
        "    model2.b.assign_sub(learningRate * db)\n",
        "    \n",
        "print(model2.w1.numpy(),model2.w2.numpy(),model2.w3.numpy(),model2.b.numpy())\n",
        "   \n"
      ],
      "execution_count": 0,
      "outputs": []
    },
    {
      "cell_type": "code",
      "metadata": {
        "id": "9XSYus8gIq9W",
        "colab_type": "code",
        "outputId": "a06461e9-86c4-4213-8361-58bf076a1e8b",
        "colab": {
          "base_uri": "https://localhost:8080/",
          "height": 282
        }
      },
      "source": [
        "rgbValue = [88,180,245]\n",
        "colorValue= []\n",
        "for i in rgbValue:\n",
        "    colorValue.append(i/255.0)\n",
        "\n",
        "print(model2(1.0),model2(3.0))\n",
        "plt.scatter(level,salary,color = colorValue)\n",
        "plt.plot(level,model2(level),c=\"r\",linewidth=3)\n",
        "plt.show()"
      ],
      "execution_count": 0,
      "outputs": [
        {
          "output_type": "stream",
          "text": [
            "tf.Tensor(897.8649, shape=(), dtype=float32) tf.Tensor(22493.168, shape=(), dtype=float32)\n"
          ],
          "name": "stdout"
        },
        {
          "output_type": "display_data",
          "data": {
            "image/png": "[encoded data removed]",
            "text/plain": [
              "<Figure size 432x288 with 1 Axes>"
            ]
          },
          "metadata": {
            "tags": []
          }
        }
      ]
    }
  ]
}